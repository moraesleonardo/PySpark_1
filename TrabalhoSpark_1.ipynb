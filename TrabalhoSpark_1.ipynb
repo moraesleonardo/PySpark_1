{
  "nbformat": 4,
  "nbformat_minor": 0,
  "metadata": {
    "colab": {
      "provenance": [],
      "authorship_tag": "ABX9TyPorTiUfS96tqECEa2DgKH4",
      "include_colab_link": true
    },
    "kernelspec": {
      "name": "python3",
      "display_name": "Python 3"
    },
    "language_info": {
      "name": "python"
    }
  },
  "cells": [
    {
      "cell_type": "markdown",
      "metadata": {
        "id": "view-in-github",
        "colab_type": "text"
      },
      "source": [
        "<a href=\"https://colab.research.google.com/github/moraesleonardo/PySpark_1/blob/main/TrabalhoSpark_1.ipynb\" target=\"_parent\"><img src=\"https://colab.research.google.com/assets/colab-badge.svg\" alt=\"Open In Colab\"/></a>"
      ]
    },
    {
      "cell_type": "markdown",
      "source": [
        "Trabalho de Conclusão da Matéria de Spark no curso de Big Data: Engenharia de Dados - Exercício 1"
      ],
      "metadata": {
        "id": "2s5XM-ciA-jf"
      }
    },
    {
      "cell_type": "code",
      "execution_count": 50,
      "metadata": {
        "colab": {
          "base_uri": "https://localhost:8080/"
        },
        "id": "gotXFwTRA2dQ",
        "outputId": "4af83263-97f7-4978-bcc3-e668842654ea"
      },
      "outputs": [
        {
          "output_type": "stream",
          "name": "stdout",
          "text": [
            "Drive already mounted at /content/drive; to attempt to forcibly remount, call drive.mount(\"/content/drive\", force_remount=True).\n"
          ]
        }
      ],
      "source": [
        "# Acesso ao Google Drive\n",
        "from google.colab import drive\n",
        "drive.mount('/content/drive')"
      ]
    },
    {
      "cell_type": "code",
      "source": [
        "# Visualisar os arquivos que serão utilizados do google drive dentro da pasta myarqs_leonardo\n",
        "!ls \"/content/drive/My Drive/myarqs_leonardo/\""
      ],
      "metadata": {
        "colab": {
          "base_uri": "https://localhost:8080/"
        },
        "id": "6iwg_p5yBTA7",
        "outputId": "13b3b248-77c2-41b8-e349-b651327b2692"
      },
      "execution_count": 51,
      "outputs": [
        {
          "output_type": "stream",
          "name": "stdout",
          "text": [
            "dados_demograficos_IBGE.csv\t\t      quantidade_domicilios.csv\n",
            "Pagamento_Royalties_Petroleo_Soma_por_UF.csv  quantidade_municipios.csv\n"
          ]
        }
      ]
    },
    {
      "cell_type": "code",
      "source": [
        "# Instalar pyspark\n",
        "!pip install pyspark"
      ],
      "metadata": {
        "colab": {
          "base_uri": "https://localhost:8080/"
        },
        "id": "STSNOxNIE3Om",
        "outputId": "d4121fbe-c122-42ab-e8b5-ff017f23e1ab"
      },
      "execution_count": 52,
      "outputs": [
        {
          "output_type": "stream",
          "name": "stdout",
          "text": [
            "Requirement already satisfied: pyspark in /usr/local/lib/python3.10/dist-packages (3.5.0)\n",
            "Requirement already satisfied: py4j==0.10.9.7 in /usr/local/lib/python3.10/dist-packages (from pyspark) (0.10.9.7)\n"
          ]
        }
      ]
    },
    {
      "cell_type": "code",
      "source": [
        "# Acesso à API DataFrame e Dataset em Spark\n",
        "from pyspark.sql import SparkSession"
      ],
      "metadata": {
        "id": "feL5jEa1F5Pv"
      },
      "execution_count": 53,
      "outputs": []
    },
    {
      "cell_type": "code",
      "source": [
        "# Iniciando a sparkSession\n",
        "spark = SparkSession.builder.appName(\"Royalties_Petroleo\").master('local[*]').getOrCreate()"
      ],
      "metadata": {
        "id": "GziVEOjRF5LU"
      },
      "execution_count": 54,
      "outputs": []
    },
    {
      "cell_type": "code",
      "source": [
        "# Ler o arquivo Pagamento_Royalties_Petroleo_Soma_por_UF a partir do google drive\n",
        "df_royalties = spark.read.option(\"delimiter\", \";\").csv(path='/content/drive/My Drive/myarqs_leonardo/Pagamento_Royalties_Petroleo_Soma_por_UF.csv', schema= 'UF string, Total Float', header=True)"
      ],
      "metadata": {
        "id": "_TsUA8u6F5G2"
      },
      "execution_count": 55,
      "outputs": []
    },
    {
      "cell_type": "code",
      "source": [
        "# Visualizar df_royalties\n",
        "df_royalties.show()"
      ],
      "metadata": {
        "colab": {
          "base_uri": "https://localhost:8080/"
        },
        "id": "ywZyxDUGfF7L",
        "outputId": "088e1c7f-5d86-4f12-9b48-cd46105322ac"
      },
      "execution_count": 56,
      "outputs": [
        {
          "output_type": "stream",
          "name": "stdout",
          "text": [
            "+---+-------------+\n",
            "| UF|        Total|\n",
            "+---+-------------+\n",
            "| DF|3.20117043E10|\n",
            "| RJ|3.18074757E10|\n",
            "| ES|   7.740799E9|\n",
            "| SP|  6.1524009E9|\n",
            "| RN| 2.36448717E9|\n",
            "| BA| 2.35812659E9|\n",
            "| SE| 1.58791616E9|\n",
            "| AM| 1.45727987E9|\n",
            "| AL|  5.9955789E8|\n",
            "| RS|  4.6976112E8|\n",
            "| CE| 3.37681376E8|\n",
            "| MA| 3.29627648E8|\n",
            "| PE| 2.99824032E8|\n",
            "| SC| 2.81323584E8|\n",
            "| PB| 1.66319904E8|\n",
            "| MG|  8.7406392E7|\n",
            "| PR|  4.6649296E7|\n",
            "| PA|    8291489.0|\n",
            "| AP|    1463204.0|\n",
            "+---+-------------+\n",
            "\n"
          ]
        }
      ]
    },
    {
      "cell_type": "code",
      "source": [
        "# Visualizar os tipos de dados por coluna\n",
        "df_royalties"
      ],
      "metadata": {
        "colab": {
          "base_uri": "https://localhost:8080/"
        },
        "id": "ivjsxpbegwe9",
        "outputId": "45abf379-6145-42b2-b2b3-1215f97ac5e1"
      },
      "execution_count": 57,
      "outputs": [
        {
          "output_type": "execute_result",
          "data": {
            "text/plain": [
              "DataFrame[UF: string, Total: float]"
            ]
          },
          "metadata": {},
          "execution_count": 57
        }
      ]
    },
    {
      "cell_type": "code",
      "source": [
        "# Iniciando a sparkSession\n",
        "spark = SparkSession.builder.appName(\"Dados_IBGE\").master('local[*]').getOrCreate()"
      ],
      "metadata": {
        "id": "R79lotJGF4_2"
      },
      "execution_count": 58,
      "outputs": []
    },
    {
      "cell_type": "code",
      "source": [
        "# Ler o arquivo dados_demograficos_IBGE a partir do google drive\n",
        "df_dados_IBGE = spark.read.option(\"delimiter\", \";\").csv(path='/content/drive/My Drive/myarqs_leonardo/dados_demograficos_IBGE.csv', schema= 'Estados_do_Brasil string, Area_Territorial float, Populacao_Residente float, Densidade_Demografica float, IDH float, Rendimento_Mensal_Domiciliar_per_capita float, Total_de_Veiculos float', header=True)"
      ],
      "metadata": {
        "id": "WFqt432QLeY8"
      },
      "execution_count": 59,
      "outputs": []
    },
    {
      "cell_type": "code",
      "source": [
        "# Visualizar df_dados_IBGE\n",
        "df_dados_IBGE.show()"
      ],
      "metadata": {
        "colab": {
          "base_uri": "https://localhost:8080/"
        },
        "id": "c9uuPV0plPLS",
        "outputId": "00757143-01a2-4b69-fc2a-6c634f5ff9c7"
      },
      "execution_count": 60,
      "outputs": [
        {
          "output_type": "stream",
          "name": "stdout",
          "text": [
            "+-----------------+----------------+-------------------+---------------------+-----+---------------------------------------+-----------------+\n",
            "|Estados_do_Brasil|Area_Territorial|Populacao_Residente|Densidade_Demografica|  IDH|Rendimento_Mensal_Domiciliar_per_capita|Total_de_Veiculos|\n",
            "+-----------------+----------------+-------------------+---------------------+-----+---------------------------------------+-----------------+\n",
            "|               AL|         27830.0|          3127511.0|                112.0|  0.6|                                  935.0|        1034187.0|\n",
            "|               AP|        142470.0|           733508.0|                  5.0|  0.6|                                 1177.0|         232691.0|\n",
            "|               AM|       1559255.0|          3941175.0|                  2.0|  0.7|                                  965.0|        1069794.0|\n",
            "|               BA|        564760.0|        1.4136417E7|                 25.0|  0.6|                                 1010.0|        4887673.0|\n",
            "|               CE|        148894.0|          8791688.0|                 59.0|  0.7|                                 1050.0|        3625994.0|\n",
            "|               DF|          5760.0|          2817068.0|                489.0|  0.8|                                 2913.0|        2021627.0|\n",
            "|               ES|         46074.0|          3833486.0|                 83.0|  0.7|                                 1723.0|        2248960.0|\n",
            "|               MA|        329651.0|          6775152.0|                 20.0|  0.6|                                  814.0|        2031236.0|\n",
            "|               MG|        586513.0|        2.0538718E7|                 35.0|  0.7|                                 1529.0|      1.3028883E7|\n",
            "|               PA|       1245870.0|          8116132.0|                  6.0|  0.6|                                 1061.0|        2478988.0|\n",
            "|               PB|         56467.0|          3974495.0|                 NULL|  0.6|                                 1096.0|        1523167.0|\n",
            "|               PR|        199298.0|        1.1443208E7|                 57.0|  0.7|                                 1846.0|        8575905.0|\n",
            "|               PE|         98067.0|          9058155.0|                 92.0|  0.7|                                 1010.0|        3439164.0|\n",
            "|               RJ|         43750.0|        1.6054524E7|                366.0|0.762|                                 1971.0|        7475503.0|\n",
            "|               RN|         52809.0|          3302406.0|                 62.0|  0.7|                                 1267.0|        1495094.0|\n",
            "|               RS|        281707.0|        1.0880506E7|                 38.0|  0.7|                                 2087.0|        7869630.0|\n",
            "|               SC|         95730.0|          7609601.0|                 79.0|  0.7|                                 2018.0|        5974106.0|\n",
            "|               SP|        248219.0|         4.442046E7|                178.0|  0.8|                                 2148.0|      3.2293192E7|\n",
            "|               SE|         21938.0|          2209558.0|                100.0|  0.7|                                 1187.0|         907388.0|\n",
            "+-----------------+----------------+-------------------+---------------------+-----+---------------------------------------+-----------------+\n",
            "\n"
          ]
        }
      ]
    },
    {
      "cell_type": "code",
      "source": [
        "# Visualizar os tipos de dados por coluna\n",
        "df_dados_IBGE"
      ],
      "metadata": {
        "colab": {
          "base_uri": "https://localhost:8080/"
        },
        "id": "75SMpm2ziyiF",
        "outputId": "fac55d8e-9ad1-4fd3-e61d-c35e7b1fb6c2"
      },
      "execution_count": 61,
      "outputs": [
        {
          "output_type": "execute_result",
          "data": {
            "text/plain": [
              "DataFrame[Estados_do_Brasil: string, Area_Territorial: float, Populacao_Residente: float, Densidade_Demografica: float, IDH: float, Rendimento_Mensal_Domiciliar_per_capita: float, Total_de_Veiculos: float]"
            ]
          },
          "metadata": {},
          "execution_count": 61
        }
      ]
    },
    {
      "cell_type": "code",
      "source": [
        "# Iniciando a sparkSession\n",
        "spark = SparkSession.builder.appName(\"Quantidade_Domicilio\").master('local[*]').getOrCreate()"
      ],
      "metadata": {
        "id": "0J134uUNMBsK"
      },
      "execution_count": 62,
      "outputs": []
    },
    {
      "cell_type": "code",
      "source": [
        "# Ler o arquivo quantidade_domicilios a partir do google drive\n",
        "df_quant_dom = spark.read.option(\"delimiter\", \";\").csv(path='/content/drive/My Drive/myarqs_leonardo/quantidade_domicilios.csv', schema='Sigla string, Ano_2000 float', header=True)"
      ],
      "metadata": {
        "id": "Qq2fBTMfSAb-"
      },
      "execution_count": 63,
      "outputs": []
    },
    {
      "cell_type": "code",
      "source": [
        "# Visualizar df_quant_dom\n",
        "df_quant_dom.show(30)"
      ],
      "metadata": {
        "colab": {
          "base_uri": "https://localhost:8080/"
        },
        "id": "65yTNj4bqNPj",
        "outputId": "76cb0f6b-4fc0-42d8-984c-32e1958fb823"
      },
      "execution_count": 64,
      "outputs": [
        {
          "output_type": "stream",
          "name": "stdout",
          "text": [
            "+-----+-----------+\n",
            "|Sigla|   Ano_2000|\n",
            "+-----+-----------+\n",
            "|   AC|   131580.0|\n",
            "|   AL|   658873.0|\n",
            "|   AM|   580900.0|\n",
            "|   AP|   100765.0|\n",
            "|   BA|  3214292.0|\n",
            "|   CE|  1773393.0|\n",
            "|   DF|   556762.0|\n",
            "|   ES|   851014.0|\n",
            "|   GO|  1420822.0|\n",
            "|   MA|  1246715.0|\n",
            "|   MG|  4837296.0|\n",
            "|   MS|   577362.0|\n",
            "|   MT|   669676.0|\n",
            "|   PA|  1332248.0|\n",
            "|   PB|   857989.0|\n",
            "|   PE|  1994041.0|\n",
            "|   PI|   665808.0|\n",
            "|   PR|  2709523.0|\n",
            "|   RJ|  4315737.0|\n",
            "|   RN|   678652.0|\n",
            "|   RO|   354391.0|\n",
            "|   RR|    76681.0|\n",
            "|   RS|  3091643.0|\n",
            "|   SC|  1518651.0|\n",
            "|   SE|   442256.0|\n",
            "|   SP|1.0564745E7|\n",
            "|   TO|   285701.0|\n",
            "+-----+-----------+\n",
            "\n"
          ]
        }
      ]
    },
    {
      "cell_type": "code",
      "source": [
        "# Visualizar os tipos de dados por coluna\n",
        "df_quant_dom"
      ],
      "metadata": {
        "colab": {
          "base_uri": "https://localhost:8080/"
        },
        "id": "wIjIv4Z4qSWF",
        "outputId": "ec559e1d-c922-4207-b64b-02a845cbd51a"
      },
      "execution_count": 65,
      "outputs": [
        {
          "output_type": "execute_result",
          "data": {
            "text/plain": [
              "DataFrame[Sigla: string, Ano_2000: float]"
            ]
          },
          "metadata": {},
          "execution_count": 65
        }
      ]
    },
    {
      "cell_type": "code",
      "source": [
        "# Iniciando a sparkSession\n",
        "spark = SparkSession.builder.appName(\"Quantidade_Municipio\").master('local[*]').getOrCreate()"
      ],
      "metadata": {
        "id": "iW92-dtqSAWk"
      },
      "execution_count": 66,
      "outputs": []
    },
    {
      "cell_type": "code",
      "source": [
        "# Ler o arquivo quantidade_municipios a partir do google drive\n",
        "df_quant_mun = spark.read.option(\"delimiter\", \";\").csv(path='/content/drive/My Drive/myarqs_leonardo/quantidade_municipios.csv', schema='UF string, qtd_mun float', header=True)"
      ],
      "metadata": {
        "id": "Lm_S86K3SAT5"
      },
      "execution_count": 67,
      "outputs": []
    },
    {
      "cell_type": "code",
      "source": [
        "# Visualizar df_quant_mun\n",
        "df_quant_mun.show(10)"
      ],
      "metadata": {
        "colab": {
          "base_uri": "https://localhost:8080/"
        },
        "id": "EmXVCtQRqncB",
        "outputId": "d287d3f4-22ab-45b3-ae4c-78adb615b32e"
      },
      "execution_count": 68,
      "outputs": [
        {
          "output_type": "stream",
          "name": "stdout",
          "text": [
            "+---+-------+\n",
            "| UF|qtd_mun|\n",
            "+---+-------+\n",
            "| RO|   52.0|\n",
            "| AC|   22.0|\n",
            "| AM|   62.0|\n",
            "| RR|   15.0|\n",
            "| PA|  144.0|\n",
            "| AP|   16.0|\n",
            "| TO|  139.0|\n",
            "| MA|  217.0|\n",
            "| PI|  224.0|\n",
            "| CE|  184.0|\n",
            "+---+-------+\n",
            "only showing top 10 rows\n",
            "\n"
          ]
        }
      ]
    },
    {
      "cell_type": "code",
      "source": [
        "# Visualizar os tipos de dados por coluna\n",
        "df_quant_mun"
      ],
      "metadata": {
        "colab": {
          "base_uri": "https://localhost:8080/"
        },
        "id": "2aJ3aIzcqnQX",
        "outputId": "d0ef0a1e-0677-47c5-b338-30215571e21c"
      },
      "execution_count": 69,
      "outputs": [
        {
          "output_type": "execute_result",
          "data": {
            "text/plain": [
              "DataFrame[UF: string, qtd_mun: float]"
            ]
          },
          "metadata": {},
          "execution_count": 69
        }
      ]
    },
    {
      "cell_type": "markdown",
      "source": [
        "Consulta 1: Quais são as três UF que mais recebem royalties no Brasil.\n",
        "Resp.: DF, RJ e ES"
      ],
      "metadata": {
        "id": "6u0FZ9qCT0Gc"
      }
    },
    {
      "cell_type": "code",
      "source": [
        "# Selecionando as colunas 'uf' e 'total', ordenando por 'total' de forma descendente e limitando a 3 registros\n",
        "top_royalties = df_royalties.select(\"uf\", \"Total\").orderBy(\"Total\", ascending=False).limit(3)\n",
        "\n",
        "# Para visualizar o resultado\n",
        "top_royalties.show()"
      ],
      "metadata": {
        "colab": {
          "base_uri": "https://localhost:8080/"
        },
        "id": "FvvXb61LTlpO",
        "outputId": "1e627e32-d92b-4f18-9836-8de89165127f"
      },
      "execution_count": 70,
      "outputs": [
        {
          "output_type": "stream",
          "name": "stdout",
          "text": [
            "+---+-------------+\n",
            "| uf|        Total|\n",
            "+---+-------------+\n",
            "| DF|3.20117043E10|\n",
            "| RJ|3.18074757E10|\n",
            "| ES|   7.740799E9|\n",
            "+---+-------------+\n",
            "\n"
          ]
        }
      ]
    },
    {
      "cell_type": "markdown",
      "source": [
        "Consulta 2: Quais são as três UF com maior quantidade de domicilios no Brasil. Resp.: SP, MG e RJ"
      ],
      "metadata": {
        "id": "bSe3kebGUC9B"
      }
    },
    {
      "cell_type": "code",
      "source": [
        "# Selecionando as colunas 'Sigla' e 'Ano_2000', ordenando por 'ano_2000' de forma descendente e limitando a 3 registros\n",
        "top_domicilios= df_quant_dom.select(\"Sigla\", \"Ano_2000\").orderBy(df_quant_dom[\"Ano_2000\"].desc()).limit(3)\n",
        "\n",
        "# Para visualizar o resultado\n",
        "top_domicilios.show()"
      ],
      "metadata": {
        "colab": {
          "base_uri": "https://localhost:8080/"
        },
        "id": "PuIxwg8kuwkw",
        "outputId": "f3e423e1-ed7c-4e36-9309-d1783aa39d1a"
      },
      "execution_count": 71,
      "outputs": [
        {
          "output_type": "stream",
          "name": "stdout",
          "text": [
            "+-----+-----------+\n",
            "|Sigla|   Ano_2000|\n",
            "+-----+-----------+\n",
            "|   SP|1.0564745E7|\n",
            "|   MG|  4837296.0|\n",
            "|   RJ|  4315737.0|\n",
            "+-----+-----------+\n",
            "\n"
          ]
        }
      ]
    },
    {
      "cell_type": "markdown",
      "source": [
        "Consulta 3: Quais são as cinco UF que mais possuem municípios no Brasil. Resp: MG, SP, RS, BA e PR"
      ],
      "metadata": {
        "id": "j0Azk0bmvXz-"
      }
    },
    {
      "cell_type": "code",
      "source": [
        "# Selecionando as colunas 'uf' e 'qtd_mun', ordenando por 'qts_mun' de forma descendente e limitando a 5 registros\n",
        "top_municipios= df_quant_mun.select(\"UF\", \"qtd_mun\").orderBy(df_quant_mun[\"qtd_mun\"].desc()).limit(5)\n",
        "\n",
        "# Para visualizar o resultado\n",
        "top_municipios.show()"
      ],
      "metadata": {
        "colab": {
          "base_uri": "https://localhost:8080/"
        },
        "id": "3Aea6n_ASANy",
        "outputId": "b234a36d-33e0-4576-a226-2382ebd28b11"
      },
      "execution_count": 72,
      "outputs": [
        {
          "output_type": "stream",
          "name": "stdout",
          "text": [
            "+---+-------+\n",
            "| UF|qtd_mun|\n",
            "+---+-------+\n",
            "| MG|  853.0|\n",
            "| SP|  645.0|\n",
            "| RS|  497.0|\n",
            "| BA|  417.0|\n",
            "| PR|  399.0|\n",
            "+---+-------+\n",
            "\n"
          ]
        }
      ]
    },
    {
      "cell_type": "markdown",
      "source": [
        "Consulta 4: Quais são as três UF que mais possuem veículos no Brasil. Resp.: SP, MG e PR."
      ],
      "metadata": {
        "id": "2kttk_XSUlso"
      }
    },
    {
      "cell_type": "code",
      "source": [
        "# Selecionando as colunas 'Estados_do_Brasil' e 'Total_de_Veiculos', ordenando por 'Total_de_Veiculos' de forma descendente e limitando a 3 registros\n",
        "top_veiculos = df_dados_IBGE.select(\"Estados_do_Brasil\",\"Total_de_Veiculos\").orderBy(df_dados_IBGE[\"Total_de_Veiculos\"].desc()).limit(3)\n",
        "\n",
        "# Para visualizar o resultado\n",
        "top_veiculos.show()"
      ],
      "metadata": {
        "colab": {
          "base_uri": "https://localhost:8080/"
        },
        "id": "KfDYLZa4Uya5",
        "outputId": "1befe9c3-5f69-413a-fc95-8b4c71bed8c7"
      },
      "execution_count": 73,
      "outputs": [
        {
          "output_type": "stream",
          "name": "stdout",
          "text": [
            "+-----------------+-----------------+\n",
            "|Estados_do_Brasil|Total_de_Veiculos|\n",
            "+-----------------+-----------------+\n",
            "|               SP|      3.2293192E7|\n",
            "|               MG|      1.3028883E7|\n",
            "|               PR|        8575905.0|\n",
            "+-----------------+-----------------+\n",
            "\n"
          ]
        }
      ]
    },
    {
      "cell_type": "markdown",
      "source": [
        "Consulta 5: Quais são as três UF com o maior número de população residente no Brasil. Resp.: SP, MG e RJ."
      ],
      "metadata": {
        "id": "d9dOAhpaUyzq"
      }
    },
    {
      "cell_type": "code",
      "source": [
        "# Selecionando as colunas 'Estados_do_Brasil' e 'Populacao_Residente', ordenando por 'Populacao_Residente' de forma descendente e limitando a 3 registros\n",
        "top_populacao = df_dados_IBGE.select(\"Estados_do_Brasil\",\"Populacao_Residente\").orderBy(df_dados_IBGE[\"Populacao_Residente\"].desc()).limit(3)\n",
        "\n",
        "# Para visualizar o resultado\n",
        "top_populacao.show()"
      ],
      "metadata": {
        "colab": {
          "base_uri": "https://localhost:8080/"
        },
        "id": "mynE2_Lnw9eG",
        "outputId": "04be8d6e-aafc-435e-a5e3-b23e6631d709"
      },
      "execution_count": 74,
      "outputs": [
        {
          "output_type": "stream",
          "name": "stdout",
          "text": [
            "+-----------------+-------------------+\n",
            "|Estados_do_Brasil|Populacao_Residente|\n",
            "+-----------------+-------------------+\n",
            "|               SP|         4.442046E7|\n",
            "|               MG|        2.0538718E7|\n",
            "|               RJ|        1.6054524E7|\n",
            "+-----------------+-------------------+\n",
            "\n"
          ]
        }
      ]
    },
    {
      "cell_type": "markdown",
      "source": [
        "Consulta 6: Funções de Agregação (count) - Total de Estados"
      ],
      "metadata": {
        "id": "Dlgrj2yPD8hb"
      }
    },
    {
      "cell_type": "code",
      "source": [
        "# importando count\n",
        "from pyspark.sql.functions import count\n",
        "\n",
        "# Contabilizando o total de Estados (retirado da contagem o DF)\n",
        "total_estados = df_quant_dom.agg(count(\"Sigla\")-1).collect()[0][0]\n",
        "\n",
        "# fazendo a impressão do valor\n",
        "print(f\"O total de Estados no Brasil é de {total_estados}\")"
      ],
      "metadata": {
        "colab": {
          "base_uri": "https://localhost:8080/"
        },
        "id": "l8FSzZxsD8BF",
        "outputId": "3a83592b-d68b-43de-8619-10e7350427b3"
      },
      "execution_count": 75,
      "outputs": [
        {
          "output_type": "stream",
          "name": "stdout",
          "text": [
            "O total de Estados no Brasil é de 26\n"
          ]
        }
      ]
    },
    {
      "cell_type": "markdown",
      "source": [
        "Consulta 7: Funções de Agregação (min e max) - Valor das populações residentes dos Estados com o menor e maior valores"
      ],
      "metadata": {
        "id": "p0mfYtZMD72b"
      }
    },
    {
      "cell_type": "code",
      "source": [
        "# importando min e max\n",
        "from pyspark.sql.functions import min, max\n",
        "\n",
        "# Cálculo dos Estados com a maior e menor número de populações residentes\n",
        "min_pop = df_dados_IBGE.agg(min(\"Populacao_Residente\")).collect()[0][0]\n",
        "max_pop = df_dados_IBGE.agg(max(\"Populacao_Residente\")).collect()[0][0]\n",
        "\n",
        "# fazendo a impressão dos valores\n",
        "print(f\"O Estado com a menor população residente é de {min_pop}\")\n",
        "print(f\"O Estado com a maior população residente é de {max_pop}\")"
      ],
      "metadata": {
        "colab": {
          "base_uri": "https://localhost:8080/"
        },
        "id": "2RLZvXuKF7we",
        "outputId": "52c4096f-0752-44cb-ede7-a194feb77d18"
      },
      "execution_count": 76,
      "outputs": [
        {
          "output_type": "stream",
          "name": "stdout",
          "text": [
            "O Estado com a menor população residente é de 733508.0\n",
            "O Estado com a maior população residente é de 44420460.0\n"
          ]
        }
      ]
    },
    {
      "cell_type": "markdown",
      "source": [
        "Consulta 8: Funções de Agregação (avg) - Valor médio das populações residentes dos Estados"
      ],
      "metadata": {
        "id": "b8E1l0w4GItE"
      }
    },
    {
      "cell_type": "code",
      "source": [
        "# importando avg\n",
        "from pyspark.sql.functions import avg\n",
        "\n",
        "# Cálculo da média da população residente\n",
        "avg_pop = df_dados_IBGE.agg(avg(\"Populacao_Residente\")).collect()[0][0]\n",
        "\n",
        "# fazendo a impressão do valor\n",
        "print(f\"A média de valor da população residente é de {avg_pop}\")\n"
      ],
      "metadata": {
        "colab": {
          "base_uri": "https://localhost:8080/"
        },
        "id": "GDTIb5v8lHm6",
        "outputId": "a48764c3-29bd-49ce-98a9-b36f5f0fc324"
      },
      "execution_count": 77,
      "outputs": [
        {
          "output_type": "stream",
          "name": "stdout",
          "text": [
            "A média de valor da população residente é de 9566514.105263159\n"
          ]
        }
      ]
    },
    {
      "cell_type": "markdown",
      "source": [
        "Consulta 9: Funções de Agregação (sum) - A população total dos Estados do Sudeste"
      ],
      "metadata": {
        "id": "WPq8KNYc_r1A"
      }
    },
    {
      "cell_type": "code",
      "source": [
        "# importando sum\n",
        "from pyspark.sql.functions import sum\n",
        "\n",
        "# Declarando os Estados do Sudeste\n",
        "estados_sudeste = [\"RJ\", \"SP\", \"MG\", \"ES\"]\n",
        "\n",
        "# Cálculo da soma da população do Sudeste\n",
        "total_populacao_sudeste = df_dados_IBGE.where(df_dados_IBGE.Estados_do_Brasil.isin(estados_sudeste)).agg(sum(\"Populacao_Residente\")).collect()[0][0]\n",
        "\n",
        "# fazendo a impressão do valor\n",
        "print(f\"A população total dos Estados do Sudeste é de {total_populacao_sudeste}\")"
      ],
      "metadata": {
        "colab": {
          "base_uri": "https://localhost:8080/"
        },
        "id": "26givkZl_-HO",
        "outputId": "deb18d10-6574-42cb-9bfa-9bd953ad0e17"
      },
      "execution_count": 78,
      "outputs": [
        {
          "output_type": "stream",
          "name": "stdout",
          "text": [
            "A população total dos Estados do Sudeste é de 84847188.0\n"
          ]
        }
      ]
    }
  ]
}